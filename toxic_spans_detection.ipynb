{
  "cells": [
    {
      "cell_type": "code",
      "execution_count": 1,
      "metadata": {
        "id": "04-qpwBPwoLf"
      },
      "outputs": [],
      "source": [
        "# importing relevant libraries\n",
        "\n",
        "import pandas as pd\n",
        "import matplotlib.pyplot as plt\n",
        "from ast import literal_eval \n",
        "from transformers import BertTokenizer, BertModel\n",
        "import torch\n",
        "from torch import nn\n",
        "from torch.optim import Adam\n",
        "import pytorch_lightning as pl\n",
        "from torch.utils.data import TensorDataset,DataLoader,SequentialSampler\n",
        "from torch.nn.utils import clip_grad_norm_\n",
        "from keras_preprocessing.sequence import pad_sequences\n",
        "import numpy as np\n",
        "from tqdm import tqdm"
      ]
    },
    {
      "cell_type": "code",
      "execution_count": 2,
      "metadata": {
        "colab": {
          "base_uri": "https://localhost:8080/",
          "height": 204
        },
        "id": "i8juDhmfwoLh",
        "outputId": "b9edccb4-28c9-4896-e220-a31350bcc280"
      },
      "outputs": [
        {
          "data": {
            "text/html": [
              "<div>\n",
              "<style scoped>\n",
              "    .dataframe tbody tr th:only-of-type {\n",
              "        vertical-align: middle;\n",
              "    }\n",
              "\n",
              "    .dataframe tbody tr th {\n",
              "        vertical-align: top;\n",
              "    }\n",
              "\n",
              "    .dataframe thead th {\n",
              "        text-align: right;\n",
              "    }\n",
              "</style>\n",
              "<table border=\"1\" class=\"dataframe\">\n",
              "  <thead>\n",
              "    <tr style=\"text-align: right;\">\n",
              "      <th></th>\n",
              "      <th>spans</th>\n",
              "      <th>text</th>\n",
              "    </tr>\n",
              "  </thead>\n",
              "  <tbody>\n",
              "    <tr>\n",
              "      <th>0</th>\n",
              "      <td>[8, 9, 10, 11, 12, 13, 14, 15, 16, 17, 18, 19,...</td>\n",
              "      <td>Another violent and aggressive immigrant killi...</td>\n",
              "    </tr>\n",
              "    <tr>\n",
              "      <th>1</th>\n",
              "      <td>[33, 34, 35, 36, 37, 38, 39]</td>\n",
              "      <td>I am 56 years old, I am not your fucking junio...</td>\n",
              "    </tr>\n",
              "    <tr>\n",
              "      <th>2</th>\n",
              "      <td>[0, 1, 2, 3]</td>\n",
              "      <td>Damn, a whole family. Sad indeed.</td>\n",
              "    </tr>\n",
              "    <tr>\n",
              "      <th>3</th>\n",
              "      <td>[7, 8, 9, 10, 11, 12, 13, 14, 15, 16, 17]</td>\n",
              "      <td>What a knucklehead. How can anyone not know th...</td>\n",
              "    </tr>\n",
              "    <tr>\n",
              "      <th>4</th>\n",
              "      <td>[32, 33, 34, 35, 36, 37, 38]</td>\n",
              "      <td>\"who do you think should do the killing?\"\\n\\nA...</td>\n",
              "    </tr>\n",
              "  </tbody>\n",
              "</table>\n",
              "</div>"
            ],
            "text/plain": [
              "                                               spans  \\\n",
              "0  [8, 9, 10, 11, 12, 13, 14, 15, 16, 17, 18, 19,...   \n",
              "1                       [33, 34, 35, 36, 37, 38, 39]   \n",
              "2                                       [0, 1, 2, 3]   \n",
              "3          [7, 8, 9, 10, 11, 12, 13, 14, 15, 16, 17]   \n",
              "4                       [32, 33, 34, 35, 36, 37, 38]   \n",
              "\n",
              "                                                text  \n",
              "0  Another violent and aggressive immigrant killi...  \n",
              "1  I am 56 years old, I am not your fucking junio...  \n",
              "2                  Damn, a whole family. Sad indeed.  \n",
              "3  What a knucklehead. How can anyone not know th...  \n",
              "4  \"who do you think should do the killing?\"\\n\\nA...  "
            ]
          },
          "execution_count": 2,
          "metadata": {},
          "output_type": "execute_result"
        }
      ],
      "source": [
        "train_data= pd.read_csv(\"tsd_train.csv\")\n",
        "test_data= pd.read_csv(\"tsd_test.csv\")\n",
        "train_data.head()"
      ]
    },
    {
      "cell_type": "code",
      "execution_count": 3,
      "metadata": {
        "id": "Ge8HmGS9woLi"
      },
      "outputs": [],
      "source": [
        "def clean_spans(df, col):\n",
        "    # Initialize an empty list to store the cleaned values\n",
        "    clean_list = []\n",
        "    \n",
        "    # Iterate over each value in the specified column of the DataFrame\n",
        "    for i in list(df[col]):\n",
        "        # Convert the string representation of a list to an actual list using literal_eval\n",
        "        clean_list.append(literal_eval(str(i)))\n",
        "    \n",
        "    # Replace the values in the specified column with the cleaned list\n",
        "    df[col] = clean_list\n",
        "    \n",
        "    # Return the updated DataFrame\n",
        "    return df\n",
        "\n",
        "# Clean the 'spans' column in the train_data DataFrame\n",
        "train_data = clean_spans(train_data, 'spans')\n",
        "\n",
        "# Clean the 'spans' column in the test_data DataFrame\n",
        "test_data = clean_spans(test_data, 'spans')"
      ]
    },
    {
      "cell_type": "code",
      "execution_count": 4,
      "metadata": {
        "colab": {
          "base_uri": "https://localhost:8080/",
          "height": 113,
          "referenced_widgets": [
            "c7dbcea960b74ef097aec7e40c9b70ac",
            "49e2b6bbc5854417823c0e5a37c62d8b",
            "5b09d5703cbe4f94b899648ca991a7e6",
            "96758e2382fa430ab0f1fb7c6f92416a",
            "c04fabcab4bb4d979eb84cbb35922f81",
            "63e3766b75384b10a760728d995d14d2",
            "73684ca7368245a7923332f66670a94b",
            "9e41b8de4554468f85f83a1796cc4bd8",
            "d6e2e0078d6b437c9562322d14354a2b",
            "4d7d0dacd0db42b7af33dd7fa8d14468",
            "af558d6cbf594f61bc213d1a75e2e1d5",
            "f66c0c3ac72046329d36abf0a2043efe",
            "4f810340f646464db12296d706f27d7a",
            "d3942ce4720c4fc3a1f38d124fbc1724",
            "48ee1f30976645b6a1ac98b6b306e818",
            "59afff4a4bab49fca2df7ec022b47ace",
            "1087616774de40d38c69d451c793e7d5",
            "3faae09013e7476c938fda7f59d5704c",
            "d7eed603a082482faf85aec3a9694194",
            "60e1a6bf44dd45dabd0f5dbf71f5c2e5",
            "c02175fbfef34b88a600768280ea5458",
            "64f678a25b2a4fc3a74d2c3d2943ad0e",
            "926b59b2d01847e08948bd777ba05e8c",
            "898710d8871249c6b0560b8eeb266ee7",
            "d8a6e0827e4f4f0ab2f0e3f5b526cdd9",
            "b9aba629e4ea420887826dcc5ca1c0c9",
            "09d8d47c8d0f45a08acf830cd455c2cd",
            "e66fd8cff04d44199373bb96aa270e3f",
            "08845550571f4eeb8ddebff1280f3f41",
            "1fc2443c475f43afb9df99ba3582124a",
            "2d874c1c8efc493eafbbff9bb20a13c8",
            "88b99e7ef67a4b67a31eab58a46c0b60",
            "f9c9b33303124c198498879ed23e1721"
          ]
        },
        "id": "B2DDbIdxwoLj",
        "outputId": "f31f0bc8-2207-4de3-e134-e415c6e9d990"
      },
      "outputs": [],
      "source": [
        "# Create a tokenizer using the BERT base uncased model\n",
        "tokenizer = BertTokenizer.from_pretrained('bert-base-uncased', do_lower_case=True)\n",
        "\n",
        "# Custom tokenizer function that uses the BERT tokenizer\n",
        "def custom_tokenizer(text):\n",
        "    return tokenizer.tokenize(text)\n",
        "\n",
        "# Function to retrieve words from spans\n",
        "def retrieve_word_from_span(lst_span, text):\n",
        "    i = 0\n",
        "    token = []\n",
        "    a = 0\n",
        "    word = []\n",
        "    \n",
        "    while (i < (len(lst_span) - 1)):\n",
        "        if (lst_span[i] != (lst_span[i+1] - 1)):\n",
        "            token.append(lst_span[a:(i+1)])\n",
        "            a = i + 1\n",
        "        elif i == (len(lst_span) - 2):\n",
        "            token.append(lst_span[a:i+2])\n",
        "\n",
        "        i = i + 1\n",
        "\n",
        "    for t in token:\n",
        "        word.append(text[t[0]:(t[len(t)-1]) + 1])\n",
        "\n",
        "    return word\n",
        "\n",
        "# Function to retrieve words from spans for all examples in the DataFrame\n",
        "def span_retrieved(df):\n",
        "    token_labels = []\n",
        "\n",
        "    for i in range(len(df)):\n",
        "        token_labels.append(retrieve_word_from_span(df['spans'][i], df['text'][i]))\n",
        "    \n",
        "    return token_labels\n",
        "\n",
        "# Function to convert spans into token labels in the DataFrame\n",
        "def span_convert(df):\n",
        "    MAX_LEN = 0\n",
        "    token_labels = []\n",
        "\n",
        "    for i in range(0, len(df['text'])):\n",
        "        token_labels.append(retrieve_word_from_span(df['spans'][i], df['text'][i]))\n",
        "\n",
        "    lst_seq = []\n",
        "    for i in range(0, len(df['text'])):\n",
        "        token = custom_tokenizer(df['text'][i])\n",
        "        if len(token) > MAX_LEN:\n",
        "            MAX_LEN = len(token)\n",
        "            \n",
        "        seq = np.zeros(len(token), dtype=int)\n",
        "        for j in range(0, len(token)):\n",
        "            for t in token_labels[i]:\n",
        "                if token[j] in custom_tokenizer(t):\n",
        "                    seq[j] = 1\n",
        "        lst_seq.append(seq)\n",
        "\n",
        "    bert_token_list = []\n",
        "    for i in df['text']:\n",
        "        bert_token_list.append(tokenizer.tokenize(i))     \n",
        "\n",
        "    df['toxic_tokens'], df['bert_tokens'], df['token_labels'] = token_labels, bert_token_list, lst_seq\n",
        "    \n",
        "    return df\n"
      ]
    },
    {
      "cell_type": "code",
      "execution_count": 5,
      "metadata": {
        "colab": {
          "base_uri": "https://localhost:8080/",
          "height": 333
        },
        "id": "m58yKx8pwoLk",
        "outputId": "b6c6b62d-d69f-4288-ec05-6e95b8394b29"
      },
      "outputs": [
        {
          "data": {
            "text/html": [
              "<div>\n",
              "<style scoped>\n",
              "    .dataframe tbody tr th:only-of-type {\n",
              "        vertical-align: middle;\n",
              "    }\n",
              "\n",
              "    .dataframe tbody tr th {\n",
              "        vertical-align: top;\n",
              "    }\n",
              "\n",
              "    .dataframe thead th {\n",
              "        text-align: right;\n",
              "    }\n",
              "</style>\n",
              "<table border=\"1\" class=\"dataframe\">\n",
              "  <thead>\n",
              "    <tr style=\"text-align: right;\">\n",
              "      <th></th>\n",
              "      <th>spans</th>\n",
              "      <th>text</th>\n",
              "      <th>toxic_tokens</th>\n",
              "      <th>bert_tokens</th>\n",
              "      <th>token_labels</th>\n",
              "    </tr>\n",
              "  </thead>\n",
              "  <tbody>\n",
              "    <tr>\n",
              "      <th>0</th>\n",
              "      <td>[8, 9, 10, 11, 12, 13, 14, 15, 16, 17, 18, 19,...</td>\n",
              "      <td>Another violent and aggressive immigrant killi...</td>\n",
              "      <td>[violent and aggressive immigrant]</td>\n",
              "      <td>[another, violent, and, aggressive, immigrant,...</td>\n",
              "      <td>[0, 1, 1, 1, 1, 0, 0, 0, 1, 0, 0, 0, 0, 0, 0, ...</td>\n",
              "    </tr>\n",
              "    <tr>\n",
              "      <th>1</th>\n",
              "      <td>[33, 34, 35, 36, 37, 38, 39]</td>\n",
              "      <td>I am 56 years old, I am not your fucking junio...</td>\n",
              "      <td>[fucking]</td>\n",
              "      <td>[i, am, 56, years, old, ,, i, am, not, your, f...</td>\n",
              "      <td>[0, 0, 0, 0, 0, 0, 0, 0, 0, 0, 1, 0, 0, 0, 0, ...</td>\n",
              "    </tr>\n",
              "    <tr>\n",
              "      <th>2</th>\n",
              "      <td>[0, 1, 2, 3]</td>\n",
              "      <td>Damn, a whole family. Sad indeed.</td>\n",
              "      <td>[Damn]</td>\n",
              "      <td>[damn, ,, a, whole, family, ., sad, indeed, .]</td>\n",
              "      <td>[1, 0, 0, 0, 0, 0, 0, 0, 0]</td>\n",
              "    </tr>\n",
              "    <tr>\n",
              "      <th>3</th>\n",
              "      <td>[7, 8, 9, 10, 11, 12, 13, 14, 15, 16, 17]</td>\n",
              "      <td>What a knucklehead. How can anyone not know th...</td>\n",
              "      <td>[knucklehead]</td>\n",
              "      <td>[what, a, kn, ##uck, ##le, ##head, ., how, can...</td>\n",
              "      <td>[0, 0, 1, 1, 1, 1, 0, 0, 0, 0, 0, 0, 0, 0, 0, ...</td>\n",
              "    </tr>\n",
              "    <tr>\n",
              "      <th>4</th>\n",
              "      <td>[32, 33, 34, 35, 36, 37, 38]</td>\n",
              "      <td>\"who do you think should do the killing?\"\\n\\nA...</td>\n",
              "      <td>[killing]</td>\n",
              "      <td>[\", who, do, you, think, should, do, the, kill...</td>\n",
              "      <td>[0, 0, 0, 0, 0, 0, 0, 0, 1, 0, 0, 0, 0, 0, 0, ...</td>\n",
              "    </tr>\n",
              "  </tbody>\n",
              "</table>\n",
              "</div>"
            ],
            "text/plain": [
              "                                               spans  \\\n",
              "0  [8, 9, 10, 11, 12, 13, 14, 15, 16, 17, 18, 19,...   \n",
              "1                       [33, 34, 35, 36, 37, 38, 39]   \n",
              "2                                       [0, 1, 2, 3]   \n",
              "3          [7, 8, 9, 10, 11, 12, 13, 14, 15, 16, 17]   \n",
              "4                       [32, 33, 34, 35, 36, 37, 38]   \n",
              "\n",
              "                                                text  \\\n",
              "0  Another violent and aggressive immigrant killi...   \n",
              "1  I am 56 years old, I am not your fucking junio...   \n",
              "2                  Damn, a whole family. Sad indeed.   \n",
              "3  What a knucklehead. How can anyone not know th...   \n",
              "4  \"who do you think should do the killing?\"\\n\\nA...   \n",
              "\n",
              "                         toxic_tokens  \\\n",
              "0  [violent and aggressive immigrant]   \n",
              "1                           [fucking]   \n",
              "2                              [Damn]   \n",
              "3                       [knucklehead]   \n",
              "4                           [killing]   \n",
              "\n",
              "                                         bert_tokens  \\\n",
              "0  [another, violent, and, aggressive, immigrant,...   \n",
              "1  [i, am, 56, years, old, ,, i, am, not, your, f...   \n",
              "2     [damn, ,, a, whole, family, ., sad, indeed, .]   \n",
              "3  [what, a, kn, ##uck, ##le, ##head, ., how, can...   \n",
              "4  [\", who, do, you, think, should, do, the, kill...   \n",
              "\n",
              "                                        token_labels  \n",
              "0  [0, 1, 1, 1, 1, 0, 0, 0, 1, 0, 0, 0, 0, 0, 0, ...  \n",
              "1  [0, 0, 0, 0, 0, 0, 0, 0, 0, 0, 1, 0, 0, 0, 0, ...  \n",
              "2                        [1, 0, 0, 0, 0, 0, 0, 0, 0]  \n",
              "3  [0, 0, 1, 1, 1, 1, 0, 0, 0, 0, 0, 0, 0, 0, 0, ...  \n",
              "4  [0, 0, 0, 0, 0, 0, 0, 0, 1, 0, 0, 0, 0, 0, 0, ...  "
            ]
          },
          "execution_count": 5,
          "metadata": {},
          "output_type": "execute_result"
        }
      ],
      "source": [
        "train_data1=span_convert(train_data)\n",
        "test_data1= span_convert(test_data)\n",
        "train_data1.head()"
      ]
    },
    {
      "cell_type": "code",
      "execution_count": 8,
      "metadata": {
        "colab": {
          "base_uri": "https://localhost:8080/"
        },
        "id": "xC0IfmNuwoLk",
        "outputId": "6b51f7b9-a070-4f9d-b628-8f599744da27"
      },
      "outputs": [
        {
          "data": {
            "text/plain": [
              "335"
            ]
          },
          "execution_count": 8,
          "metadata": {},
          "output_type": "execute_result"
        }
      ],
      "source": [
        "def maxlen(df_train, df_test):\n",
        "    # Calculate the maximum length of 'bert_tokens' in the train_data DataFrame\n",
        "    max_len_train = max([len(x) for x in df_train['bert_tokens']])\n",
        "    \n",
        "    # Calculate the maximum length of 'bert_tokens' in the test_data DataFrame\n",
        "    max_len_test = max([len(x) for x in df_test['bert_tokens']])\n",
        "    \n",
        "    # Determine the overall maximum length between train_data and test_data\n",
        "    final_max_len = max(max_len_train, max_len_test)\n",
        "    \n",
        "    # Return the final maximum length\n",
        "    return final_max_len\n",
        "\n",
        "max_len=maxlen(train_data1,test_data1)\n",
        "max_len"
      ]
    },
    {
      "cell_type": "code",
      "execution_count": 9,
      "metadata": {
        "colab": {
          "base_uri": "https://localhost:8080/"
        },
        "id": "p9p64Z_cwoLk",
        "outputId": "80819b5d-6ccb-4ec2-a7d8-8542e52b0bee"
      },
      "outputs": [
        {
          "name": "stdout",
          "output_type": "stream",
          "text": [
            "(7939, 335) (2000, 335) (7939, 335) (2000, 335) (7939, 335, 1)\n"
          ]
        }
      ],
      "source": [
        "def padding_token_ids(tokens):\n",
        "    token_ids_list = []  # List to store token IDs\n",
        "    masks_list = []  # List to store masks\n",
        "\n",
        "    for i in tokens:\n",
        "        # Pad sequences to a maximum length\n",
        "        padding_token_id = pad_sequences([tokenizer.convert_tokens_to_ids(i)], max_len, truncating='post', padding='post', dtype='int')\n",
        "        \n",
        "        # Append the padded token IDs to the list\n",
        "        token_ids_list.append(padding_token_id[0])\n",
        "        \n",
        "        # Create a mask by concatenating ones for token IDs and zeros for padding\n",
        "        mask = np.concatenate([np.ones(len(tokenizer.convert_tokens_to_ids(i)), dtype=\"int\"), np.zeros(max(0, max_len - len(tokenizer.convert_tokens_to_ids(i))), dtype='int')], axis=0)\n",
        "        \n",
        "        # Append the mask to the list\n",
        "        masks_list.append(mask)\n",
        "\n",
        "    # Convert the lists to numpy arrays\n",
        "    token_ids = np.array(token_ids_list)\n",
        "    masks = np.array(masks_list)\n",
        "    \n",
        "    return token_ids, masks\n",
        "\n",
        "# Generate token sequences for training and testing data\n",
        "train_tokens = list(map(lambda t: ['[CLS]'] + t[:max_len - 2] + ['[SEP]'], train_data1['bert_tokens']))\n",
        "test_tokens = list(map(lambda t: ['[CLS]'] + t[:max_len - 2] + ['[SEP]'], test_data1['bert_tokens']))\n",
        "\n",
        "# Generate token labels for training data\n",
        "train_token_labels = list(map(lambda t: [0] + t[:max_len - 2] + [0], train_data1['token_labels']))\n",
        "\n",
        "# Pad token IDs and masks for training data\n",
        "train_token_ids, train_masks = padding_token_ids(train_tokens)\n",
        "\n",
        "# Pad token IDs and masks for testing data\n",
        "test_token_ids, test_masks = padding_token_ids(test_tokens)\n",
        "\n",
        "# Pad token labels for training data\n",
        "y_train = pad_sequences(train_token_labels, maxlen=max_len, truncating=\"post\", padding=\"post\")[:, :, None]\n",
        "\n",
        "# Print the shapes of the processed data\n",
        "print(train_token_ids.shape, test_token_ids.shape, train_masks.shape, test_masks.shape, y_train.shape)\n"
      ]
    },
    {
      "cell_type": "code",
      "execution_count": 123,
      "metadata": {
        "colab": {
          "base_uri": "https://localhost:8080/"
        },
        "id": "IMWe-WmXwoLm",
        "outputId": "6a615c9b-276c-4191-ed58-6e7ac25aee2e"
      },
      "outputs": [
        {
          "name": "stderr",
          "output_type": "stream",
          "text": [
            "Some weights of the model checkpoint at bert-base-uncased were not used when initializing BertModel: ['cls.predictions.transform.dense.weight', 'cls.predictions.decoder.weight', 'cls.seq_relationship.bias', 'cls.seq_relationship.weight', 'cls.predictions.bias', 'cls.predictions.transform.LayerNorm.weight', 'cls.predictions.transform.LayerNorm.bias', 'cls.predictions.transform.dense.bias']\n",
            "- This IS expected if you are initializing BertModel from the checkpoint of a model trained on another task or with another architecture (e.g. initializing a BertForSequenceClassification model from a BertForPreTraining model).\n",
            "- This IS NOT expected if you are initializing BertModel from the checkpoint of a model that you expect to be exactly identical (initializing a BertForSequenceClassification model from a BertForSequenceClassification model).\n"
          ]
        }
      ],
      "source": [
        "class BertClassifier(pl.LightningModule):\n",
        "    def __init__(self, bert, hidden_layers):\n",
        "        super().__init__()\n",
        "        self.bert = bert\n",
        "        self.hidden = nn.Linear(bert.config.hidden_size, hidden_layers)\n",
        "        self.hidden_activation = nn.LeakyReLU(0.1)\n",
        "        self.output = nn.Linear(hidden_layers, 1)\n",
        "        self.output_activation = nn.Sigmoid()\n",
        "\n",
        "    def forward(self, input_ids, attention_mask, labels=None):\n",
        "        # Pass input_ids and attention_mask through the BERT model\n",
        "        outputs = self.bert(input_ids, attention_mask=attention_mask)\n",
        "        cls_output = outputs[0]  # Get the output corresponding to the [CLS] token\n",
        "        cls_output = self.hidden(cls_output)  # Pass the output through the hidden layer\n",
        "        cls_output = self.hidden_activation(cls_output)  # Apply activation function to hidden layer output\n",
        "        cls_output = self.output(cls_output)  # Pass the hidden layer output through the output layer\n",
        "        cls_output = self.output_activation(cls_output)  # Apply activation function to output layer output\n",
        "        \n",
        "        criterion = nn.BCELoss()  # Binary cross-entropy loss\n",
        "        loss = 0  # Initialize loss variable\n",
        "        \n",
        "        if labels is not None:\n",
        "            loss = criterion(cls_output, labels.float())  # Calculate the loss if labels are provided\n",
        "        \n",
        "        return loss, cls_output\n",
        "\n",
        "device = torch.device(\"cuda\" if torch.cuda.is_available() else \"cpu\")  # Check if GPU is available\n",
        "bert_model = BertClassifier(BertModel.from_pretrained('bert-base-uncased'), hidden_layers=64).to(device)  # Create an instance of the BertClassifier model and move it to GPU if available\n",
        "torch.cuda.empty_cache()  # Clear GPU cache\n",
        "\n"
      ]
    },
    {
      "cell_type": "code",
      "execution_count": 124,
      "metadata": {
        "colab": {
          "base_uri": "https://localhost:8080/"
        },
        "id": "shEJCVQyrHjl",
        "outputId": "f4c53ae2-e1dc-4fba-b8f3-0f9ec95033cd"
      },
      "outputs": [
        {
          "name": "stdout",
          "output_type": "stream",
          "text": [
            "The total number of paramters in the model are : 109531521 \n"
          ]
        }
      ],
      "source": [
        "loss = nn.BCELoss()  # Binary cross-entropy loss\n",
        "\n",
        "optimizer = Adam(bert_model.parameters(), lr=3e-6)  # Adam optimizer for updating model parameters with a learning rate of 3e-6\n",
        "\n",
        "params = sum(p.numel() for p in bert_model.parameters() if p.requires_grad)  # Calculate the total number of trainable parameters in the model\n",
        "\n",
        "print(f'The total number of parameters in the model are: {params}')  # Print the total number of parameters\n"
      ]
    },
    {
      "cell_type": "code",
      "execution_count": 125,
      "metadata": {
        "colab": {
          "base_uri": "https://localhost:8080/"
        },
        "id": "coOK9YjsaOKs",
        "outputId": "ddcaaca4-7ec2-41b0-b7d8-0138ca7caab0"
      },
      "outputs": [
        {
          "name": "stdout",
          "output_type": "stream",
          "text": [
            "torch.Size([7939, 335]) torch.Size([7939, 335]) torch.Size([7939, 335, 1])\n"
          ]
        }
      ],
      "source": [
        "# Train the model\n",
        "train_dataset = TensorDataset(torch.tensor(train_token_ids),torch.tensor(train_masks),torch.tensor(y_train))\n",
        "train_dataloader = DataLoader(train_dataset, batch_size=16, shuffle=True)\n",
        "print(torch.tensor(train_token_ids).shape,torch.tensor(train_masks).shape,torch.tensor(y_train).shape)\n",
        "\n",
        "test_dataset = TensorDataset(torch.tensor(test_token_ids), torch.tensor(test_masks))\n",
        "test_dataloader = DataLoader(test_dataset, sampler=SequentialSampler(test_dataset), batch_size=16)"
      ]
    },
    {
      "cell_type": "code",
      "execution_count": 126,
      "metadata": {
        "colab": {
          "base_uri": "https://localhost:8080/"
        },
        "id": "dcfuW9sswoLm",
        "outputId": "f3e568ed-1f4c-4d40-c06f-309ba2c15f09"
      },
      "outputs": [
        {
          "name": "stderr",
          "output_type": "stream",
          "text": [
            "100%|██████████| 497/497 [07:45<00:00,  1.07it/s]\n",
            "100%|██████████| 497/497 [07:48<00:00,  1.06it/s]\n",
            "100%|██████████| 497/497 [07:48<00:00,  1.06it/s]\n"
          ]
        }
      ],
      "source": [
        "EPOCHS = 3  # Number of training epochs\n",
        "total_len = len(train_token_ids)  # Total number of training examples\n",
        "batch_losses = []  # List to store batch losses during training\n",
        "\n",
        "for epoch_num in range(EPOCHS):\n",
        "    bert_model.train()  # Set the model in training mode for gradient computation\n",
        "    \n",
        "    for batch_data in tqdm(train_dataloader):\n",
        "        token_ids, masks, labels = tuple(t.to(device) for t in batch_data)  # Move batch data to the appropriate device (GPU or CPU)\n",
        "\n",
        "        loss, _ = bert_model(token_ids, masks, labels)  # Forward pass: calculate loss and model output\n",
        "        \n",
        "        train_loss = loss.item()  # Get the loss value as a scalar\n",
        "        \n",
        "        bert_model.zero_grad()  # Clear previously computed gradients\n",
        "        \n",
        "        loss.backward()  # Backward pass: compute gradients of the loss with respect to model parameters\n",
        "        \n",
        "        clip_grad_norm_(parameters=bert_model.parameters(), max_norm=1.0)  # Clip gradients to prevent exploding gradients\n",
        "        \n",
        "        optimizer.step()  # Update model parameters using the optimizer\n",
        "        \n",
        "        batch_losses.append(train_loss)  # Append the batch loss to the list of losses\n"
      ]
    },
    {
      "cell_type": "code",
      "execution_count": 127,
      "metadata": {
        "colab": {
          "base_uri": "https://localhost:8080/"
        },
        "id": "6DvRPkDpI2F3",
        "outputId": "a873b62a-2b10-442d-bef1-2d95ed820d7a"
      },
      "outputs": [
        {
          "name": "stdout",
          "output_type": "stream",
          "text": [
            "The training loss in epoch1 is 0.09797893910925513\n",
            "The training loss in epoch2 is 0.04328904351523105\n",
            "The training loss in epoch3 is 0.03879852937927968\n"
          ]
        }
      ],
      "source": [
        "epoch1= batch_losses[:497]\n",
        "epoch2= batch_losses[497:994]\n",
        "epoch3= batch_losses[994:]\n",
        "epoch1_loss= sum(epoch1)/len(epoch1)\n",
        "epoch2_loss= sum(epoch2)/len(epoch2)\n",
        "epoch3_loss= sum(epoch3)/len(epoch3)\n",
        "print(f'The training loss in epoch1 is {epoch1_loss}')\n",
        "print(f'The training loss in epoch2 is {epoch2_loss}')\n",
        "print(f'The training loss in epoch3 is {epoch3_loss}')"
      ]
    },
    {
      "cell_type": "code",
      "execution_count": 128,
      "metadata": {
        "colab": {
          "base_uri": "https://localhost:8080/"
        },
        "id": "rZdmmEPEsaxn",
        "outputId": "35252737-07a6-40b9-911a-92d4219be5a1"
      },
      "outputs": [
        {
          "name": "stderr",
          "output_type": "stream",
          "text": [
            "100%|██████████| 125/125 [00:39<00:00,  3.16it/s]\n"
          ]
        }
      ],
      "source": [
        "test_tokens, test_attention_masks, test_preds = [], [], []  # Initialize empty lists to store test data and predictions\n",
        "\n",
        "with torch.no_grad():\n",
        "    for batch_data in tqdm(test_dataloader):\n",
        "        token_ids, masks = [t.to(device) for t in batch_data]  # Move test batch data to the appropriate device (GPU or CPU)\n",
        "\n",
        "        _, output = bert_model(input_ids=token_ids, attention_mask=masks)  # Forward pass: get model output\n",
        "        \n",
        "        test_tokens += token_ids.tolist()  # Append token IDs of the current batch to the test_tokens list\n",
        "        test_attention_masks += masks.tolist()  # Append attention masks of the current batch to the test_attention_masks list\n",
        "        test_preds += output[:, :, 0].tolist()  # Append model predictions of the current batch to the test_preds list\n"
      ]
    },
    {
      "cell_type": "code",
      "execution_count": 129,
      "metadata": {
        "id": "AO8YDwoisbLY"
      },
      "outputs": [],
      "source": [
        "def get_metrics(pred_spans, true_spans, text_len):\n",
        "    tp, fp, fn = 0, 0, 0  # Initialize variables for true positives (tp), false positives (fp), and false negatives (fn)\n",
        "\n",
        "    for pred_span in pred_spans:  # Iterate over predicted spans\n",
        "        if pred_span in true_spans:  # If the predicted span is present in the true spans\n",
        "            tp += 1  # Increment true positives\n",
        "        else:\n",
        "            fp += 1  # Increment false positives\n",
        "\n",
        "    for true_span in true_spans:  # Iterate over true spans\n",
        "        if true_span not in pred_spans:  # If the true span is not present in the predicted spans\n",
        "            fn += 1  # Increment false negatives\n",
        "\n",
        "    precision = tp / (tp + fp) if tp + fp > 0 else 0  # Calculate precision (tp / (tp + fp))\n",
        "    recall = tp / (tp + fn) if tp + fn > 0 else 0  # Calculate recall (tp / (tp + fn))\n",
        "    f1 = 2 * precision * recall / (precision + recall) if precision + recall > 0 else 0  # Calculate F1 score (2 * precision * recall / (precision + recall))\n",
        "    tpr = tp / (tp + fn) if tp + fn > 0 else 0  # Calculate true positive rate or sensitivity (tp / (tp + fn))\n",
        "    fpr = fp / (text_len - len(true_spans)) if text_len - len(true_spans) > 0 else 0  # Calculate false positive rate (fp / (total negative samples))\n",
        "\n",
        "    # Return metrics as a dictionary\n",
        "    return {'precision': precision, 'recall': recall, 'f1': f1, 'tpr': tpr, 'fpr': fpr}\n"
      ]
    },
    {
      "cell_type": "code",
      "execution_count": 130,
      "metadata": {
        "id": "nPjyP-2WwoLn"
      },
      "outputs": [],
      "source": [
        "def get_scores(threshold):\n",
        "    n = len(test_tokens)  # Get the number of test tokens\n",
        "    y_pred = []  # Initialize an empty list for predicted labels\n",
        "    all_spans = []  # Initialize an empty list for all spans\n",
        "    f1, accuracy, recall, precision = 0, 0, 0, 0  # Initialize variables for F1 score, accuracy, recall, and precision\n",
        "\n",
        "    for i in range(n):  # Iterate over each test example\n",
        "        reconstructed_text = ''  # Initialize the reconstructed text\n",
        "        spans = []  # Initialize the spans\n",
        "        original_text = test_data.iloc[i]['text']  # Get the original text from the test data\n",
        "        # Perform some text preprocessing\n",
        "        original_text = original_text.replace('É', 'e')\n",
        "        original_text = original_text.replace('\\u200b', '')\n",
        "        original_text = original_text.replace('ü', 'u')\n",
        "        original_l = len(original_text)  # Get the length of the original text\n",
        "        idx = 0  # Initialize the index for traversing the original text\n",
        "        tokens = tokenizer.convert_ids_to_tokens(test_tokens[i])  # Get the tokens for the current example\n",
        "        n_tokens = len(tokens)  # Get the number of tokens\n",
        "        j = 1  # Initialize the token index\n",
        "        last_token = None  # Initialize the last token\n",
        "        prev_token_toxic = False  # Initialize the flag for the previous token toxicity\n",
        "        prev_token_prob = 0  # Initialize the probability of the previous token being toxic\n",
        "        prev_idx = -1  # Initialize the previous index\n",
        "\n",
        "        while j < n_tokens:  # Iterate over each token\n",
        "            while idx < original_l and original_text[idx].isspace():  # Skip whitespace characters in the original text\n",
        "                reconstructed_text += original_text[idx]\n",
        "                idx += 1\n",
        "            word = tokens[j]  # Get the current word token\n",
        "            if word == '[SEP]':  # Stop iterating if the special '[SEP]' token is encountered\n",
        "                last_token = j - 1\n",
        "                break\n",
        "            if ord(original_text[idx]) == 65039:  # Handle special character in the original text\n",
        "                reconstructed_text += original_text[idx]\n",
        "                idx += 1\n",
        "            if word == '[UNK]':  # Handle unknown tokens\n",
        "                reconstructed_text += original_text[idx]\n",
        "                idx += 1\n",
        "                j += 1\n",
        "                continue\n",
        "            max_toxic_prob = test_preds[i][j]  # Get the maximum toxicity probability for the current word token\n",
        "            while j < n_tokens - 1 and tokens[j + 1].startswith('##'):  # Handle word tokens with subword prefix '##'\n",
        "                j += 1\n",
        "                word += tokens[j][2:]\n",
        "                max_toxic_prob = max(max_toxic_prob, test_preds[i][j])  # Update the maximum toxicity probability\n",
        "            word_l = len(word)  # Get the length of the word token\n",
        "            y_pred += [min(prev_token_prob, max_toxic_prob) for _ in range(prev_idx + 1, idx)]\n",
        "            if min(prev_token_prob, max_toxic_prob) >= threshold:  # Check if the minimum probability is above the threshold\n",
        "                spans += list(range(prev_idx + 1, idx))  # Add the indices of the toxic spans\n",
        "            y_pred += [max_toxic_prob for _ in range(word_l)]  # Add the toxicity probability for each subword in the word token\n",
        "            is_toxic = (max_toxic_prob >= threshold)  # Check if the maximum probability is above the threshold\n",
        "            prev_token_prob = max_toxic_prob  # Update the previous token probability\n",
        "            if word == original_text[idx: idx + word_l].lower():  # Check if the word token matches the original text\n",
        "                reconstructed_text += word  # Add the word to the reconstructed text\n",
        "                if is_toxic:\n",
        "                    spans += list(range(idx, idx + word_l))  # Add the indices of the toxic spans\n",
        "                idx += word_l  # Update the index in the original text\n",
        "                prev_idx = idx - 1  # Update the previous index\n",
        "                prev_token_toxic = is_toxic  # Update the flag for previous token toxicity\n",
        "            else:\n",
        "                pass\n",
        "            j += 1\n",
        "\n",
        "        while idx < original_l and original_text[idx].isspace():  # Skip trailing whitespace characters\n",
        "            reconstructed_text += original_text[idx]\n",
        "            idx += 1\n",
        "        y_pred += [prev_token_prob for _ in range(prev_idx + 1, idx)]\n",
        "\n",
        "        if reconstructed_text != original_text.lower():  # Check if the reconstructed text matches the original text\n",
        "            pass\n",
        "        else:\n",
        "            metrics = get_metrics(spans, eval(test_data['spans'][i]), len(original_text))  # Calculate metrics using true spans\n",
        "            f1 += metrics['f1']  # Increment the F1 score\n",
        "            # Recall and precision can be calculated in a similar manner\n",
        "            all_spans.append(spans)  # Add the spans to the list\n",
        "\n",
        "    return f1 / n  # Return the average F1 score across all examples\n"
      ]
    },
    {
      "cell_type": "code",
      "execution_count": 131,
      "metadata": {
        "colab": {
          "base_uri": "https://localhost:8080/"
        },
        "id": "5AWql-du2uGu",
        "outputId": "d13ce77d-2010-4703-d9d5-b2a96f353e92"
      },
      "outputs": [
        {
          "name": "stderr",
          "output_type": "stream",
          "text": [
            "100%|██████████| 100/100 [01:18<00:00,  1.27it/s]\n"
          ]
        }
      ],
      "source": [
        "f1_scores,recall_scores,precision_scores = [],[],[]\n",
        "for threshold in tqdm(np.arange(0,1,0.01)):\n",
        "    scores = get_scores(threshold)\n",
        "    f1_scores.append(scores[0])\n",
        "    #recall_scores.append(scores[1])\n",
        "    #precision_scores.append(scores[2])\n"
      ]
    },
    {
      "cell_type": "code",
      "execution_count": 132,
      "metadata": {
        "id": "BksgYIRqPVSB"
      },
      "outputs": [],
      "source": [
        "thresholds= [thres for thres in np.arange(0,1,0.01)]"
      ]
    },
    {
      "cell_type": "code",
      "execution_count": 133,
      "metadata": {
        "colab": {
          "base_uri": "https://localhost:8080/"
        },
        "id": "5VEz46KsCDH7",
        "outputId": "8a1586ce-dc78-4f7b-fbfe-7e2e5f062aaf"
      },
      "outputs": [
        {
          "name": "stdout",
          "output_type": "stream",
          "text": [
            "(0.13911306117498126,)\n"
          ]
        }
      ],
      "source": [
        "print(get_scores(0.01)[:])\n"
      ]
    },
    {
      "cell_type": "code",
      "execution_count": 134,
      "metadata": {
        "colab": {
          "base_uri": "https://localhost:8080/",
          "height": 447
        },
        "id": "Ong1w10PY4K-",
        "outputId": "26b2ee00-1869-4a0e-f083-980d633b39d7"
      },
      "outputs": [
        {
          "data": {
            "text/plain": [
              "[<matplotlib.lines.Line2D at 0x7ff15de77b50>]"
            ]
          },
          "execution_count": 134,
          "metadata": {},
          "output_type": "execute_result"
        },
        {
          "data": {
            "image/png": "[encoded data removed]",
            "text/plain": [
              "<Figure size 640x480 with 1 Axes>"
            ]
          },
          "metadata": {},
          "output_type": "display_data"
        }
      ],
      "source": [
        "plt.plot(thresholds,f1_scores)"
      ]
    },
    {
      "cell_type": "code",
      "execution_count": 135,
      "metadata": {
        "colab": {
          "base_uri": "https://localhost:8080/",
          "height": 447
        },
        "id": "jbWuwEneC3sR",
        "outputId": "8f91b59d-fb89-4588-9a61-886fe132d717"
      },
      "outputs": [
        {
          "data": {
            "text/plain": [
              "[<matplotlib.lines.Line2D at 0x7ff185937df0>]"
            ]
          },
          "execution_count": 135,
          "metadata": {},
          "output_type": "execute_result"
        },
        {
          "data": {
            "image/png": "[encoded data removed]",
            "text/plain": [
              "<Figure size 640x480 with 1 Axes>"
            ]
          },
          "metadata": {},
          "output_type": "display_data"
        }
      ],
      "source": [
        "plt.plot(batch_losses)"
      ]
    },
    {
      "cell_type": "code",
      "execution_count": 45,
      "metadata": {
        "colab": {
          "base_uri": "https://localhost:8080/"
        },
        "id": "1iDZIuXsGlD1",
        "outputId": "e37a1a23-7f5e-4558-fc9e-a9f1c82605dd"
      },
      "outputs": [
        {
          "data": {
            "text/plain": [
              "0.013427742756903172"
            ]
          },
          "execution_count": 45,
          "metadata": {},
          "output_type": "execute_result"
        }
      ],
      "source": [
        "min(batch_losses)"
      ]
    }
  ],
  "metadata": {
    "accelerator": "GPU",
    "colab": {
      "provenance": []
    },
    "gpuClass": "standard",
    "kernelspec": {
      "display_name": "base",
      "language": "python",
      "name": "python3"
    },
    "language_info": {
      "codemirror_mode": {
        "name": "ipython",
        "version": 3
      },
      "file_extension": ".py",
      "mimetype": "text/x-python",
      "name": "python",
      "nbconvert_exporter": "python",
      "pygments_lexer": "ipython3",
      "version": "3.10.9"
    },
    "orig_nbformat": 4,
    "vscode": {
      "interpreter": {
        "hash": "157faed70938b8a4d5156c84022732ece8ba00dcf3b3d99677efa886800b07f9"
      }
    },
    "widgets": {
      "application/vnd.jupyter.widget-state+json": {
        "08845550571f4eeb8ddebff1280f3f41": {
          "model_module": "@jupyter-widgets/controls",
          "model_module_version": "1.5.0",
          "model_name": "DescriptionStyleModel",
          "state": {
            "_model_module": "@jupyter-widgets/controls",
            "_model_module_version": "1.5.0",
            "_model_name": "DescriptionStyleModel",
            "_view_count": null,
            "_view_module": "@jupyter-widgets/base",
            "_view_module_version": "1.2.0",
            "_view_name": "StyleView",
            "description_width": ""
          }
        },
        "09d8d47c8d0f45a08acf830cd455c2cd": {
          "model_module": "@jupyter-widgets/base",
          "model_module_version": "1.2.0",
          "model_name": "LayoutModel",
          "state": {
            "_model_module": "@jupyter-widgets/base",
            "_model_module_version": "1.2.0",
            "_model_name": "LayoutModel",
            "_view_count": null,
            "_view_module": "@jupyter-widgets/base",
            "_view_module_version": "1.2.0",
            "_view_name": "LayoutView",
            "align_content": null,
            "align_items": null,
            "align_self": null,
            "border": null,
            "bottom": null,
            "display": null,
            "flex": null,
            "flex_flow": null,
            "grid_area": null,
            "grid_auto_columns": null,
            "grid_auto_flow": null,
            "grid_auto_rows": null,
            "grid_column": null,
            "grid_gap": null,
            "grid_row": null,
            "grid_template_areas": null,
            "grid_template_columns": null,
            "grid_template_rows": null,
            "height": null,
            "justify_content": null,
            "justify_items": null,
            "left": null,
            "margin": null,
            "max_height": null,
            "max_width": null,
            "min_height": null,
            "min_width": null,
            "object_fit": null,
            "object_position": null,
            "order": null,
            "overflow": null,
            "overflow_x": null,
            "overflow_y": null,
            "padding": null,
            "right": null,
            "top": null,
            "visibility": null,
            "width": null
          }
        },
        "1087616774de40d38c69d451c793e7d5": {
          "model_module": "@jupyter-widgets/base",
          "model_module_version": "1.2.0",
          "model_name": "LayoutModel",
          "state": {
            "_model_module": "@jupyter-widgets/base",
            "_model_module_version": "1.2.0",
            "_model_name": "LayoutModel",
            "_view_count": null,
            "_view_module": "@jupyter-widgets/base",
            "_view_module_version": "1.2.0",
            "_view_name": "LayoutView",
            "align_content": null,
            "align_items": null,
            "align_self": null,
            "border": null,
            "bottom": null,
            "display": null,
            "flex": null,
            "flex_flow": null,
            "grid_area": null,
            "grid_auto_columns": null,
            "grid_auto_flow": null,
            "grid_auto_rows": null,
            "grid_column": null,
            "grid_gap": null,
            "grid_row": null,
            "grid_template_areas": null,
            "grid_template_columns": null,
            "grid_template_rows": null,
            "height": null,
            "justify_content": null,
            "justify_items": null,
            "left": null,
            "margin": null,
            "max_height": null,
            "max_width": null,
            "min_height": null,
            "min_width": null,
            "object_fit": null,
            "object_position": null,
            "order": null,
            "overflow": null,
            "overflow_x": null,
            "overflow_y": null,
            "padding": null,
            "right": null,
            "top": null,
            "visibility": null,
            "width": null
          }
        },
        "1fc2443c475f43afb9df99ba3582124a": {
          "model_module": "@jupyter-widgets/base",
          "model_module_version": "1.2.0",
          "model_name": "LayoutModel",
          "state": {
            "_model_module": "@jupyter-widgets/base",
            "_model_module_version": "1.2.0",
            "_model_name": "LayoutModel",
            "_view_count": null,
            "_view_module": "@jupyter-widgets/base",
            "_view_module_version": "1.2.0",
            "_view_name": "LayoutView",
            "align_content": null,
            "align_items": null,
            "align_self": null,
            "border": null,
            "bottom": null,
            "display": null,
            "flex": null,
            "flex_flow": null,
            "grid_area": null,
            "grid_auto_columns": null,
            "grid_auto_flow": null,
            "grid_auto_rows": null,
            "grid_column": null,
            "grid_gap": null,
            "grid_row": null,
            "grid_template_areas": null,
            "grid_template_columns": null,
            "grid_template_rows": null,
            "height": null,
            "justify_content": null,
            "justify_items": null,
            "left": null,
            "margin": null,
            "max_height": null,
            "max_width": null,
            "min_height": null,
            "min_width": null,
            "object_fit": null,
            "object_position": null,
            "order": null,
            "overflow": null,
            "overflow_x": null,
            "overflow_y": null,
            "padding": null,
            "right": null,
            "top": null,
            "visibility": null,
            "width": null
          }
        },
        "2d874c1c8efc493eafbbff9bb20a13c8": {
          "model_module": "@jupyter-widgets/controls",
          "model_module_version": "1.5.0",
          "model_name": "ProgressStyleModel",
          "state": {
            "_model_module": "@jupyter-widgets/controls",
            "_model_module_version": "1.5.0",
            "_model_name": "ProgressStyleModel",
            "_view_count": null,
            "_view_module": "@jupyter-widgets/base",
            "_view_module_version": "1.2.0",
            "_view_name": "StyleView",
            "bar_color": null,
            "description_width": ""
          }
        },
        "3faae09013e7476c938fda7f59d5704c": {
          "model_module": "@jupyter-widgets/controls",
          "model_module_version": "1.5.0",
          "model_name": "DescriptionStyleModel",
          "state": {
            "_model_module": "@jupyter-widgets/controls",
            "_model_module_version": "1.5.0",
            "_model_name": "DescriptionStyleModel",
            "_view_count": null,
            "_view_module": "@jupyter-widgets/base",
            "_view_module_version": "1.2.0",
            "_view_name": "StyleView",
            "description_width": ""
          }
        },
        "48ee1f30976645b6a1ac98b6b306e818": {
          "model_module": "@jupyter-widgets/controls",
          "model_module_version": "1.5.0",
          "model_name": "HTMLModel",
          "state": {
            "_dom_classes": [],
            "_model_module": "@jupyter-widgets/controls",
            "_model_module_version": "1.5.0",
            "_model_name": "HTMLModel",
            "_view_count": null,
            "_view_module": "@jupyter-widgets/controls",
            "_view_module_version": "1.5.0",
            "_view_name": "HTMLView",
            "description": "",
            "description_tooltip": null,
            "layout": "IPY_MODEL_c02175fbfef34b88a600768280ea5458",
            "placeholder": "​",
            "style": "IPY_MODEL_64f678a25b2a4fc3a74d2c3d2943ad0e",
            "value": " 28.0/28.0 [00:00&lt;00:00, 1.96kB/s]"
          }
        },
        "49e2b6bbc5854417823c0e5a37c62d8b": {
          "model_module": "@jupyter-widgets/controls",
          "model_module_version": "1.5.0",
          "model_name": "HTMLModel",
          "state": {
            "_dom_classes": [],
            "_model_module": "@jupyter-widgets/controls",
            "_model_module_version": "1.5.0",
            "_model_name": "HTMLModel",
            "_view_count": null,
            "_view_module": "@jupyter-widgets/controls",
            "_view_module_version": "1.5.0",
            "_view_name": "HTMLView",
            "description": "",
            "description_tooltip": null,
            "layout": "IPY_MODEL_63e3766b75384b10a760728d995d14d2",
            "placeholder": "​",
            "style": "IPY_MODEL_73684ca7368245a7923332f66670a94b",
            "value": "Downloading (…)solve/main/vocab.txt: 100%"
          }
        },
        "4d7d0dacd0db42b7af33dd7fa8d14468": {
          "model_module": "@jupyter-widgets/base",
          "model_module_version": "1.2.0",
          "model_name": "LayoutModel",
          "state": {
            "_model_module": "@jupyter-widgets/base",
            "_model_module_version": "1.2.0",
            "_model_name": "LayoutModel",
            "_view_count": null,
            "_view_module": "@jupyter-widgets/base",
            "_view_module_version": "1.2.0",
            "_view_name": "LayoutView",
            "align_content": null,
            "align_items": null,
            "align_self": null,
            "border": null,
            "bottom": null,
            "display": null,
            "flex": null,
            "flex_flow": null,
            "grid_area": null,
            "grid_auto_columns": null,
            "grid_auto_flow": null,
            "grid_auto_rows": null,
            "grid_column": null,
            "grid_gap": null,
            "grid_row": null,
            "grid_template_areas": null,
            "grid_template_columns": null,
            "grid_template_rows": null,
            "height": null,
            "justify_content": null,
            "justify_items": null,
            "left": null,
            "margin": null,
            "max_height": null,
            "max_width": null,
            "min_height": null,
            "min_width": null,
            "object_fit": null,
            "object_position": null,
            "order": null,
            "overflow": null,
            "overflow_x": null,
            "overflow_y": null,
            "padding": null,
            "right": null,
            "top": null,
            "visibility": null,
            "width": null
          }
        },
        "4f810340f646464db12296d706f27d7a": {
          "model_module": "@jupyter-widgets/controls",
          "model_module_version": "1.5.0",
          "model_name": "HTMLModel",
          "state": {
            "_dom_classes": [],
            "_model_module": "@jupyter-widgets/controls",
            "_model_module_version": "1.5.0",
            "_model_name": "HTMLModel",
            "_view_count": null,
            "_view_module": "@jupyter-widgets/controls",
            "_view_module_version": "1.5.0",
            "_view_name": "HTMLView",
            "description": "",
            "description_tooltip": null,
            "layout": "IPY_MODEL_1087616774de40d38c69d451c793e7d5",
            "placeholder": "​",
            "style": "IPY_MODEL_3faae09013e7476c938fda7f59d5704c",
            "value": "Downloading (…)okenizer_config.json: 100%"
          }
        },
        "59afff4a4bab49fca2df7ec022b47ace": {
          "model_module": "@jupyter-widgets/base",
          "model_module_version": "1.2.0",
          "model_name": "LayoutModel",
          "state": {
            "_model_module": "@jupyter-widgets/base",
            "_model_module_version": "1.2.0",
            "_model_name": "LayoutModel",
            "_view_count": null,
            "_view_module": "@jupyter-widgets/base",
            "_view_module_version": "1.2.0",
            "_view_name": "LayoutView",
            "align_content": null,
            "align_items": null,
            "align_self": null,
            "border": null,
            "bottom": null,
            "display": null,
            "flex": null,
            "flex_flow": null,
            "grid_area": null,
            "grid_auto_columns": null,
            "grid_auto_flow": null,
            "grid_auto_rows": null,
            "grid_column": null,
            "grid_gap": null,
            "grid_row": null,
            "grid_template_areas": null,
            "grid_template_columns": null,
            "grid_template_rows": null,
            "height": null,
            "justify_content": null,
            "justify_items": null,
            "left": null,
            "margin": null,
            "max_height": null,
            "max_width": null,
            "min_height": null,
            "min_width": null,
            "object_fit": null,
            "object_position": null,
            "order": null,
            "overflow": null,
            "overflow_x": null,
            "overflow_y": null,
            "padding": null,
            "right": null,
            "top": null,
            "visibility": null,
            "width": null
          }
        },
        "5b09d5703cbe4f94b899648ca991a7e6": {
          "model_module": "@jupyter-widgets/controls",
          "model_module_version": "1.5.0",
          "model_name": "FloatProgressModel",
          "state": {
            "_dom_classes": [],
            "_model_module": "@jupyter-widgets/controls",
            "_model_module_version": "1.5.0",
            "_model_name": "FloatProgressModel",
            "_view_count": null,
            "_view_module": "@jupyter-widgets/controls",
            "_view_module_version": "1.5.0",
            "_view_name": "ProgressView",
            "bar_style": "success",
            "description": "",
            "description_tooltip": null,
            "layout": "IPY_MODEL_9e41b8de4554468f85f83a1796cc4bd8",
            "max": 231508,
            "min": 0,
            "orientation": "horizontal",
            "style": "IPY_MODEL_d6e2e0078d6b437c9562322d14354a2b",
            "value": 231508
          }
        },
        "60e1a6bf44dd45dabd0f5dbf71f5c2e5": {
          "model_module": "@jupyter-widgets/controls",
          "model_module_version": "1.5.0",
          "model_name": "ProgressStyleModel",
          "state": {
            "_model_module": "@jupyter-widgets/controls",
            "_model_module_version": "1.5.0",
            "_model_name": "ProgressStyleModel",
            "_view_count": null,
            "_view_module": "@jupyter-widgets/base",
            "_view_module_version": "1.2.0",
            "_view_name": "StyleView",
            "bar_color": null,
            "description_width": ""
          }
        },
        "63e3766b75384b10a760728d995d14d2": {
          "model_module": "@jupyter-widgets/base",
          "model_module_version": "1.2.0",
          "model_name": "LayoutModel",
          "state": {
            "_model_module": "@jupyter-widgets/base",
            "_model_module_version": "1.2.0",
            "_model_name": "LayoutModel",
            "_view_count": null,
            "_view_module": "@jupyter-widgets/base",
            "_view_module_version": "1.2.0",
            "_view_name": "LayoutView",
            "align_content": null,
            "align_items": null,
            "align_self": null,
            "border": null,
            "bottom": null,
            "display": null,
            "flex": null,
            "flex_flow": null,
            "grid_area": null,
            "grid_auto_columns": null,
            "grid_auto_flow": null,
            "grid_auto_rows": null,
            "grid_column": null,
            "grid_gap": null,
            "grid_row": null,
            "grid_template_areas": null,
            "grid_template_columns": null,
            "grid_template_rows": null,
            "height": null,
            "justify_content": null,
            "justify_items": null,
            "left": null,
            "margin": null,
            "max_height": null,
            "max_width": null,
            "min_height": null,
            "min_width": null,
            "object_fit": null,
            "object_position": null,
            "order": null,
            "overflow": null,
            "overflow_x": null,
            "overflow_y": null,
            "padding": null,
            "right": null,
            "top": null,
            "visibility": null,
            "width": null
          }
        },
        "64f678a25b2a4fc3a74d2c3d2943ad0e": {
          "model_module": "@jupyter-widgets/controls",
          "model_module_version": "1.5.0",
          "model_name": "DescriptionStyleModel",
          "state": {
            "_model_module": "@jupyter-widgets/controls",
            "_model_module_version": "1.5.0",
            "_model_name": "DescriptionStyleModel",
            "_view_count": null,
            "_view_module": "@jupyter-widgets/base",
            "_view_module_version": "1.2.0",
            "_view_name": "StyleView",
            "description_width": ""
          }
        },
        "73684ca7368245a7923332f66670a94b": {
          "model_module": "@jupyter-widgets/controls",
          "model_module_version": "1.5.0",
          "model_name": "DescriptionStyleModel",
          "state": {
            "_model_module": "@jupyter-widgets/controls",
            "_model_module_version": "1.5.0",
            "_model_name": "DescriptionStyleModel",
            "_view_count": null,
            "_view_module": "@jupyter-widgets/base",
            "_view_module_version": "1.2.0",
            "_view_name": "StyleView",
            "description_width": ""
          }
        },
        "88b99e7ef67a4b67a31eab58a46c0b60": {
          "model_module": "@jupyter-widgets/base",
          "model_module_version": "1.2.0",
          "model_name": "LayoutModel",
          "state": {
            "_model_module": "@jupyter-widgets/base",
            "_model_module_version": "1.2.0",
            "_model_name": "LayoutModel",
            "_view_count": null,
            "_view_module": "@jupyter-widgets/base",
            "_view_module_version": "1.2.0",
            "_view_name": "LayoutView",
            "align_content": null,
            "align_items": null,
            "align_self": null,
            "border": null,
            "bottom": null,
            "display": null,
            "flex": null,
            "flex_flow": null,
            "grid_area": null,
            "grid_auto_columns": null,
            "grid_auto_flow": null,
            "grid_auto_rows": null,
            "grid_column": null,
            "grid_gap": null,
            "grid_row": null,
            "grid_template_areas": null,
            "grid_template_columns": null,
            "grid_template_rows": null,
            "height": null,
            "justify_content": null,
            "justify_items": null,
            "left": null,
            "margin": null,
            "max_height": null,
            "max_width": null,
            "min_height": null,
            "min_width": null,
            "object_fit": null,
            "object_position": null,
            "order": null,
            "overflow": null,
            "overflow_x": null,
            "overflow_y": null,
            "padding": null,
            "right": null,
            "top": null,
            "visibility": null,
            "width": null
          }
        },
        "898710d8871249c6b0560b8eeb266ee7": {
          "model_module": "@jupyter-widgets/controls",
          "model_module_version": "1.5.0",
          "model_name": "HTMLModel",
          "state": {
            "_dom_classes": [],
            "_model_module": "@jupyter-widgets/controls",
            "_model_module_version": "1.5.0",
            "_model_name": "HTMLModel",
            "_view_count": null,
            "_view_module": "@jupyter-widgets/controls",
            "_view_module_version": "1.5.0",
            "_view_name": "HTMLView",
            "description": "",
            "description_tooltip": null,
            "layout": "IPY_MODEL_e66fd8cff04d44199373bb96aa270e3f",
            "placeholder": "​",
            "style": "IPY_MODEL_08845550571f4eeb8ddebff1280f3f41",
            "value": "Downloading (…)lve/main/config.json: 100%"
          }
        },
        "926b59b2d01847e08948bd777ba05e8c": {
          "model_module": "@jupyter-widgets/controls",
          "model_module_version": "1.5.0",
          "model_name": "HBoxModel",
          "state": {
            "_dom_classes": [],
            "_model_module": "@jupyter-widgets/controls",
            "_model_module_version": "1.5.0",
            "_model_name": "HBoxModel",
            "_view_count": null,
            "_view_module": "@jupyter-widgets/controls",
            "_view_module_version": "1.5.0",
            "_view_name": "HBoxView",
            "box_style": "",
            "children": [
              "IPY_MODEL_898710d8871249c6b0560b8eeb266ee7",
              "IPY_MODEL_d8a6e0827e4f4f0ab2f0e3f5b526cdd9",
              "IPY_MODEL_b9aba629e4ea420887826dcc5ca1c0c9"
            ],
            "layout": "IPY_MODEL_09d8d47c8d0f45a08acf830cd455c2cd"
          }
        },
        "96758e2382fa430ab0f1fb7c6f92416a": {
          "model_module": "@jupyter-widgets/controls",
          "model_module_version": "1.5.0",
          "model_name": "HTMLModel",
          "state": {
            "_dom_classes": [],
            "_model_module": "@jupyter-widgets/controls",
            "_model_module_version": "1.5.0",
            "_model_name": "HTMLModel",
            "_view_count": null,
            "_view_module": "@jupyter-widgets/controls",
            "_view_module_version": "1.5.0",
            "_view_name": "HTMLView",
            "description": "",
            "description_tooltip": null,
            "layout": "IPY_MODEL_4d7d0dacd0db42b7af33dd7fa8d14468",
            "placeholder": "​",
            "style": "IPY_MODEL_af558d6cbf594f61bc213d1a75e2e1d5",
            "value": " 232k/232k [00:00&lt;00:00, 8.41MB/s]"
          }
        },
        "9e41b8de4554468f85f83a1796cc4bd8": {
          "model_module": "@jupyter-widgets/base",
          "model_module_version": "1.2.0",
          "model_name": "LayoutModel",
          "state": {
            "_model_module": "@jupyter-widgets/base",
            "_model_module_version": "1.2.0",
            "_model_name": "LayoutModel",
            "_view_count": null,
            "_view_module": "@jupyter-widgets/base",
            "_view_module_version": "1.2.0",
            "_view_name": "LayoutView",
            "align_content": null,
            "align_items": null,
            "align_self": null,
            "border": null,
            "bottom": null,
            "display": null,
            "flex": null,
            "flex_flow": null,
            "grid_area": null,
            "grid_auto_columns": null,
            "grid_auto_flow": null,
            "grid_auto_rows": null,
            "grid_column": null,
            "grid_gap": null,
            "grid_row": null,
            "grid_template_areas": null,
            "grid_template_columns": null,
            "grid_template_rows": null,
            "height": null,
            "justify_content": null,
            "justify_items": null,
            "left": null,
            "margin": null,
            "max_height": null,
            "max_width": null,
            "min_height": null,
            "min_width": null,
            "object_fit": null,
            "object_position": null,
            "order": null,
            "overflow": null,
            "overflow_x": null,
            "overflow_y": null,
            "padding": null,
            "right": null,
            "top": null,
            "visibility": null,
            "width": null
          }
        },
        "af558d6cbf594f61bc213d1a75e2e1d5": {
          "model_module": "@jupyter-widgets/controls",
          "model_module_version": "1.5.0",
          "model_name": "DescriptionStyleModel",
          "state": {
            "_model_module": "@jupyter-widgets/controls",
            "_model_module_version": "1.5.0",
            "_model_name": "DescriptionStyleModel",
            "_view_count": null,
            "_view_module": "@jupyter-widgets/base",
            "_view_module_version": "1.2.0",
            "_view_name": "StyleView",
            "description_width": ""
          }
        },
        "b9aba629e4ea420887826dcc5ca1c0c9": {
          "model_module": "@jupyter-widgets/controls",
          "model_module_version": "1.5.0",
          "model_name": "HTMLModel",
          "state": {
            "_dom_classes": [],
            "_model_module": "@jupyter-widgets/controls",
            "_model_module_version": "1.5.0",
            "_model_name": "HTMLModel",
            "_view_count": null,
            "_view_module": "@jupyter-widgets/controls",
            "_view_module_version": "1.5.0",
            "_view_name": "HTMLView",
            "description": "",
            "description_tooltip": null,
            "layout": "IPY_MODEL_88b99e7ef67a4b67a31eab58a46c0b60",
            "placeholder": "​",
            "style": "IPY_MODEL_f9c9b33303124c198498879ed23e1721",
            "value": " 570/570 [00:00&lt;00:00, 22.0kB/s]"
          }
        },
        "c02175fbfef34b88a600768280ea5458": {
          "model_module": "@jupyter-widgets/base",
          "model_module_version": "1.2.0",
          "model_name": "LayoutModel",
          "state": {
            "_model_module": "@jupyter-widgets/base",
            "_model_module_version": "1.2.0",
            "_model_name": "LayoutModel",
            "_view_count": null,
            "_view_module": "@jupyter-widgets/base",
            "_view_module_version": "1.2.0",
            "_view_name": "LayoutView",
            "align_content": null,
            "align_items": null,
            "align_self": null,
            "border": null,
            "bottom": null,
            "display": null,
            "flex": null,
            "flex_flow": null,
            "grid_area": null,
            "grid_auto_columns": null,
            "grid_auto_flow": null,
            "grid_auto_rows": null,
            "grid_column": null,
            "grid_gap": null,
            "grid_row": null,
            "grid_template_areas": null,
            "grid_template_columns": null,
            "grid_template_rows": null,
            "height": null,
            "justify_content": null,
            "justify_items": null,
            "left": null,
            "margin": null,
            "max_height": null,
            "max_width": null,
            "min_height": null,
            "min_width": null,
            "object_fit": null,
            "object_position": null,
            "order": null,
            "overflow": null,
            "overflow_x": null,
            "overflow_y": null,
            "padding": null,
            "right": null,
            "top": null,
            "visibility": null,
            "width": null
          }
        },
        "c04fabcab4bb4d979eb84cbb35922f81": {
          "model_module": "@jupyter-widgets/base",
          "model_module_version": "1.2.0",
          "model_name": "LayoutModel",
          "state": {
            "_model_module": "@jupyter-widgets/base",
            "_model_module_version": "1.2.0",
            "_model_name": "LayoutModel",
            "_view_count": null,
            "_view_module": "@jupyter-widgets/base",
            "_view_module_version": "1.2.0",
            "_view_name": "LayoutView",
            "align_content": null,
            "align_items": null,
            "align_self": null,
            "border": null,
            "bottom": null,
            "display": null,
            "flex": null,
            "flex_flow": null,
            "grid_area": null,
            "grid_auto_columns": null,
            "grid_auto_flow": null,
            "grid_auto_rows": null,
            "grid_column": null,
            "grid_gap": null,
            "grid_row": null,
            "grid_template_areas": null,
            "grid_template_columns": null,
            "grid_template_rows": null,
            "height": null,
            "justify_content": null,
            "justify_items": null,
            "left": null,
            "margin": null,
            "max_height": null,
            "max_width": null,
            "min_height": null,
            "min_width": null,
            "object_fit": null,
            "object_position": null,
            "order": null,
            "overflow": null,
            "overflow_x": null,
            "overflow_y": null,
            "padding": null,
            "right": null,
            "top": null,
            "visibility": null,
            "width": null
          }
        },
        "c7dbcea960b74ef097aec7e40c9b70ac": {
          "model_module": "@jupyter-widgets/controls",
          "model_module_version": "1.5.0",
          "model_name": "HBoxModel",
          "state": {
            "_dom_classes": [],
            "_model_module": "@jupyter-widgets/controls",
            "_model_module_version": "1.5.0",
            "_model_name": "HBoxModel",
            "_view_count": null,
            "_view_module": "@jupyter-widgets/controls",
            "_view_module_version": "1.5.0",
            "_view_name": "HBoxView",
            "box_style": "",
            "children": [
              "IPY_MODEL_49e2b6bbc5854417823c0e5a37c62d8b",
              "IPY_MODEL_5b09d5703cbe4f94b899648ca991a7e6",
              "IPY_MODEL_96758e2382fa430ab0f1fb7c6f92416a"
            ],
            "layout": "IPY_MODEL_c04fabcab4bb4d979eb84cbb35922f81"
          }
        },
        "d3942ce4720c4fc3a1f38d124fbc1724": {
          "model_module": "@jupyter-widgets/controls",
          "model_module_version": "1.5.0",
          "model_name": "FloatProgressModel",
          "state": {
            "_dom_classes": [],
            "_model_module": "@jupyter-widgets/controls",
            "_model_module_version": "1.5.0",
            "_model_name": "FloatProgressModel",
            "_view_count": null,
            "_view_module": "@jupyter-widgets/controls",
            "_view_module_version": "1.5.0",
            "_view_name": "ProgressView",
            "bar_style": "success",
            "description": "",
            "description_tooltip": null,
            "layout": "IPY_MODEL_d7eed603a082482faf85aec3a9694194",
            "max": 28,
            "min": 0,
            "orientation": "horizontal",
            "style": "IPY_MODEL_60e1a6bf44dd45dabd0f5dbf71f5c2e5",
            "value": 28
          }
        },
        "d6e2e0078d6b437c9562322d14354a2b": {
          "model_module": "@jupyter-widgets/controls",
          "model_module_version": "1.5.0",
          "model_name": "ProgressStyleModel",
          "state": {
            "_model_module": "@jupyter-widgets/controls",
            "_model_module_version": "1.5.0",
            "_model_name": "ProgressStyleModel",
            "_view_count": null,
            "_view_module": "@jupyter-widgets/base",
            "_view_module_version": "1.2.0",
            "_view_name": "StyleView",
            "bar_color": null,
            "description_width": ""
          }
        },
        "d7eed603a082482faf85aec3a9694194": {
          "model_module": "@jupyter-widgets/base",
          "model_module_version": "1.2.0",
          "model_name": "LayoutModel",
          "state": {
            "_model_module": "@jupyter-widgets/base",
            "_model_module_version": "1.2.0",
            "_model_name": "LayoutModel",
            "_view_count": null,
            "_view_module": "@jupyter-widgets/base",
            "_view_module_version": "1.2.0",
            "_view_name": "LayoutView",
            "align_content": null,
            "align_items": null,
            "align_self": null,
            "border": null,
            "bottom": null,
            "display": null,
            "flex": null,
            "flex_flow": null,
            "grid_area": null,
            "grid_auto_columns": null,
            "grid_auto_flow": null,
            "grid_auto_rows": null,
            "grid_column": null,
            "grid_gap": null,
            "grid_row": null,
            "grid_template_areas": null,
            "grid_template_columns": null,
            "grid_template_rows": null,
            "height": null,
            "justify_content": null,
            "justify_items": null,
            "left": null,
            "margin": null,
            "max_height": null,
            "max_width": null,
            "min_height": null,
            "min_width": null,
            "object_fit": null,
            "object_position": null,
            "order": null,
            "overflow": null,
            "overflow_x": null,
            "overflow_y": null,
            "padding": null,
            "right": null,
            "top": null,
            "visibility": null,
            "width": null
          }
        },
        "d8a6e0827e4f4f0ab2f0e3f5b526cdd9": {
          "model_module": "@jupyter-widgets/controls",
          "model_module_version": "1.5.0",
          "model_name": "FloatProgressModel",
          "state": {
            "_dom_classes": [],
            "_model_module": "@jupyter-widgets/controls",
            "_model_module_version": "1.5.0",
            "_model_name": "FloatProgressModel",
            "_view_count": null,
            "_view_module": "@jupyter-widgets/controls",
            "_view_module_version": "1.5.0",
            "_view_name": "ProgressView",
            "bar_style": "success",
            "description": "",
            "description_tooltip": null,
            "layout": "IPY_MODEL_1fc2443c475f43afb9df99ba3582124a",
            "max": 570,
            "min": 0,
            "orientation": "horizontal",
            "style": "IPY_MODEL_2d874c1c8efc493eafbbff9bb20a13c8",
            "value": 570
          }
        },
        "e66fd8cff04d44199373bb96aa270e3f": {
          "model_module": "@jupyter-widgets/base",
          "model_module_version": "1.2.0",
          "model_name": "LayoutModel",
          "state": {
            "_model_module": "@jupyter-widgets/base",
            "_model_module_version": "1.2.0",
            "_model_name": "LayoutModel",
            "_view_count": null,
            "_view_module": "@jupyter-widgets/base",
            "_view_module_version": "1.2.0",
            "_view_name": "LayoutView",
            "align_content": null,
            "align_items": null,
            "align_self": null,
            "border": null,
            "bottom": null,
            "display": null,
            "flex": null,
            "flex_flow": null,
            "grid_area": null,
            "grid_auto_columns": null,
            "grid_auto_flow": null,
            "grid_auto_rows": null,
            "grid_column": null,
            "grid_gap": null,
            "grid_row": null,
            "grid_template_areas": null,
            "grid_template_columns": null,
            "grid_template_rows": null,
            "height": null,
            "justify_content": null,
            "justify_items": null,
            "left": null,
            "margin": null,
            "max_height": null,
            "max_width": null,
            "min_height": null,
            "min_width": null,
            "object_fit": null,
            "object_position": null,
            "order": null,
            "overflow": null,
            "overflow_x": null,
            "overflow_y": null,
            "padding": null,
            "right": null,
            "top": null,
            "visibility": null,
            "width": null
          }
        },
        "f66c0c3ac72046329d36abf0a2043efe": {
          "model_module": "@jupyter-widgets/controls",
          "model_module_version": "1.5.0",
          "model_name": "HBoxModel",
          "state": {
            "_dom_classes": [],
            "_model_module": "@jupyter-widgets/controls",
            "_model_module_version": "1.5.0",
            "_model_name": "HBoxModel",
            "_view_count": null,
            "_view_module": "@jupyter-widgets/controls",
            "_view_module_version": "1.5.0",
            "_view_name": "HBoxView",
            "box_style": "",
            "children": [
              "IPY_MODEL_4f810340f646464db12296d706f27d7a",
              "IPY_MODEL_d3942ce4720c4fc3a1f38d124fbc1724",
              "IPY_MODEL_48ee1f30976645b6a1ac98b6b306e818"
            ],
            "layout": "IPY_MODEL_59afff4a4bab49fca2df7ec022b47ace"
          }
        },
        "f9c9b33303124c198498879ed23e1721": {
          "model_module": "@jupyter-widgets/controls",
          "model_module_version": "1.5.0",
          "model_name": "DescriptionStyleModel",
          "state": {
            "_model_module": "@jupyter-widgets/controls",
            "_model_module_version": "1.5.0",
            "_model_name": "DescriptionStyleModel",
            "_view_count": null,
            "_view_module": "@jupyter-widgets/base",
            "_view_module_version": "1.2.0",
            "_view_name": "StyleView",
            "description_width": ""
          }
        }
      }
    }
  },
  "nbformat": 4,
  "nbformat_minor": 0
}
